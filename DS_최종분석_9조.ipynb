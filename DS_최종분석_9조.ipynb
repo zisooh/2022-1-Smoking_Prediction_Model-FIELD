{
 "cells": [
  {
   "cell_type": "code",
   "execution_count": 2,
   "metadata": {},
   "outputs": [],
   "source": [
    "import pandas as pd\n",
    "import seaborn as sns\n",
    "import numpy as np\n",
    "\n",
    "from sklearn.svm import SVC\n",
    "from sklearn.preprocessing import MinMaxScaler, RobustScaler, StandardScaler\n",
    "from sklearn.impute import KNNImputer\n",
    "from sklearn.tree import DecisionTreeClassifier\n",
    "from sklearn.model_selection import train_test_split, cross_val_score, GridSearchCV\n",
    "from sklearn.preprocessing import StandardScaler, MinMaxScaler\n",
    "from sklearn.metrics import accuracy_score,classification_report,plot_confusion_matrix, f1_score\n",
    "from sklearn.ensemble import RandomForestClassifier\n",
    "\n",
    "import graphviz\n",
    "import pydotplus\n",
    "import matplotlib.pyplot as plt\n",
    "\n",
    "\n",
    "from imblearn.over_sampling import RandomOverSampler, SMOTE\n",
    "from imblearn.under_sampling import RandomUnderSampler\n",
    "from imblearn.pipeline import Pipeline"
   ]
  },
  {
   "cell_type": "markdown",
   "metadata": {},
   "source": [
    "# 전처리"
   ]
  },
  {
   "cell_type": "code",
   "execution_count": null,
   "metadata": {},
   "outputs": [],
   "source": [
    "train = pd.read_csv(\"train.csv\")\n",
    "\n",
    "# 1차 변수 제거 및 타입 변경\n",
    "\n",
    "# 데이터 셋에 있는 Y, N을 1,0으로 변경\n",
    "train = train.replace({'Y':1,'N':0})\n",
    "\n",
    "# 단일 값, 흡연 판별에 불필요한 속성 제거 / ID, 시도코드, 구강검진 수검 여부\n",
    "train = train.drop(['ID','SIDO','HCHK_OE_INSPEC_YN','WAIST'],axis=1)\n",
    "\n",
    "#절반 이상이 결측치인 칼럼 드랍 / 총 콜레스테롤, 트리글리세라이드, HDL콜레스테롤, LDL콜레스테롤, 치아우식증 유무, 치석 유무\n",
    "train = train.drop(['TOT_CHOLE', 'TRIGLYCERIDE',\n",
    "              'HDL_CHOLE','HDL_CHOLE','LDL_CHOLE',\n",
    "              'CRS_YN','TTR_YN'],axis=1)\n",
    "\n",
    "#나이와 높은 상관관계를 가지고, 의사결정변수 나무에서도 크게 중요하지 않았던 청력 제거\n",
    "train = train.drop(['HEAR_LEFT','HEAR_RIGHT'],axis=1)\n",
    "\n",
    "#시력 데이터 범주화 / 실명이 아니면 0 실명이면 1\n",
    "train['SIGHT_LEFT_CATE'] =train['SIGHT_LEFT'] \n",
    "train['SIGHT_RIGHT_CATE']= train['SIGHT_RIGHT'] \n",
    "\n",
    "train.loc[train['SIGHT_LEFT'] <= 3,'SIGHT_LEFT_CATE']='0' \n",
    "train.loc[train['SIGHT_LEFT'] >3, 'SIGHT_LEFT_CATE']='1'\n",
    "train.loc[train['SIGHT_RIGHT'] <= 3,'SIGHT_RIGHT_CATE']='0'\n",
    "train.loc[train['SIGHT_RIGHT'] >3, 'SIGHT_RIGHT_CATE']='1'\n",
    "\n",
    "train= train.astype({'SIGHT_LEFT_CATE':'category','SIGHT_RIGHT_CATE':'category'})\n",
    "\n",
    "#변수 카테고리화\n",
    "train= train.astype({'SEX':'category',\n",
    "                    'SIGHT_LEFT_CATE':'category','SIGHT_RIGHT_CATE':'category',\n",
    "                    'AGE':'category','HEIGHT':'category', 'WEIGHT': 'category',\n",
    "                    'OLIG_PROTE':'category', 'DRK_YN':'category'})\n",
    "\n",
    "# 이상치 제거\n",
    "\n",
    "#이상치를 결측치로\n",
    "train.loc[train['HMG'] < 5, 'HMG']=np.NaN\n",
    "train.loc[train['HMG'] >=20,'HMG']= np.NaN\n",
    "train.loc[train['BLDS'] >= 250, 'BLDS']=np.NaN\n",
    "train.loc[train['BP_HIGH'] <= 40,'BP_HIGH']=np.nan\n",
    "train.loc[train['BP_HIGH'] >= 180,'BP_HIGH']=np.nan\n",
    "train.loc[train['BP_LWST'] <= 40,'BP_LWST']=np.nan\n",
    "train.loc[train['BP_LWST'] >= 180,'BP_LWST']=np.nan\n",
    "train.loc[train['CREATININE'] >= 70, 'CREATININE']=np.nan\n",
    "train.loc[train['SGOT_AST'] >= 10000, 'SGOT_AST']=np.nan\n",
    "train.loc[train['SGOT_ALT'] >= 10000, 'SGOT_ALT']=np.nan\n",
    "train.loc[(train['SEX']==1) & (train['GAMMA_GTP'] >= 550), 'GAMMA_GTP']=np.nan\n",
    "train.loc[(train['SEX']==2) & (train['GAMMA_GTP'] >= 380), 'GAMMA_GTP']=np.nan\n",
    "\n",
    "# 결측값 대체\n",
    "\n",
    "#KNN 이용에 앞서 정규화\n",
    "scaler=MinMaxScaler()\n",
    "train= pd.DataFrame(scaler.fit_transform(train), columns= train.columns)\n",
    "\n",
    "# 인접이웃 3개를 기준으로 결측치 대체\n",
    "imputer =KNNImputer(n_neighbors=3)\n",
    "train=pd.DataFrame(imputer.fit_transform(train), columns=train.columns)\n",
    "\n",
    "# 정규화된 데이터 역 정규화\n",
    "train= pd.DataFrame(scaler.inverse_transform(train), columns=train.columns)\n",
    "\n",
    "#정규화를 했다가 다시 역정규화를 해서 상수형으로 됨\n",
    "\n",
    "# 요단백 범주화 - 0.5 기준으로 새롭게 변경 \n",
    "train['OLIG_PROTE_CATE'] = 0\n",
    "\n",
    "train.loc[(train['OLIG_PROTE'] >0) & (train['OLIG_PROTE'] <=1.5),'OLIG_PROTE_CATE']='1'\n",
    "train.loc[(train['OLIG_PROTE'] >1.5) & (train['OLIG_PROTE'] <=2), 'OLIG_PROTE_CATE']='2'\n",
    "train.loc[(train['OLIG_PROTE'] >2) & (train['OLIG_PROTE'] <=2.5),'OLIG_PROTE_CATE']='2'\n",
    "train.loc[(train['OLIG_PROTE'] >2.5) & (train['OLIG_PROTE'] <=3), 'OLIG_PROTE_CATE']='3'\n",
    "train.loc[(train['OLIG_PROTE']>3) & (train['OLIG_PROTE'] <=3.5),'OLIG_PROTE_CATE']='3'\n",
    "train.loc[(train['OLIG_PROTE'] >3.5) & (train['OLIG_PROTE'] <=4), 'OLIG_PROTE_CATE']='4'\n",
    "train.loc[(train['OLIG_PROTE'] >4) & (train['OLIG_PROTE'] <=4.5),'OLIG_PROTE_CATE']='4'\n",
    "train.loc[(train['OLIG_PROTE'] >4.5) & (train['OLIG_PROTE'] <=5), 'OLIG_PROTE_CATE']='5'\n",
    "train.loc[(train['OLIG_PROTE'] >5) & (train['OLIG_PROTE'] <=5.5),'OLIG_PROTE_CATE']='5'\n",
    "train.loc[(train['OLIG_PROTE'] >5.5) & (train['OLIG_PROTE'] <=6.5), 'OLIG_PROTE_CATE']='6'\n",
    "\n",
    "train = train.drop(['OLIG_PROTE'],axis=1)\n",
    "\n",
    "#새로 만들었던 가변수들 원래 변수명으로 변경 \n",
    "train.rename(columns = {'SIGHT_LEFT_CATE':'SIGHT_LEFT','SIGHT_RIGHT_CATE':'SIGHT_RIGHT','OLIG_PROTE_CATE':'OLIG_PROTE'},inplace=True)\n",
    "\n",
    "# 소수점 제거를 위해 범주형 데이터 int로 변경\n",
    "train= train.astype({'SEX':'int', 'SMK_STAT': 'int', 'HEIGHT': 'int', 'WEIGHT':'int'})\n",
    "train= train.astype({'AGE':'int', 'DRK_YN' : 'int','SIGHT_LEFT': 'int', 'SIGHT_RIGHT': 'int'})\n",
    "\n",
    "# 범주형 데이터로 변환\n",
    "train= train.astype({'SEX':'category', 'SMK_STAT': 'category', 'HEIGHT': 'category', 'WEIGHT':'category'})\n",
    "train= train.astype({'AGE':'category', 'DRK_YN': 'category', 'OLIG_PROTE' : 'category'})\n",
    "train = train.astype({'SIGHT_LEFT': 'category', 'SIGHT_RIGHT': 'category'})\n"
   ]
  },
  {
   "cell_type": "markdown",
   "metadata": {},
   "source": [
    "# 모델링"
   ]
  },
  {
   "cell_type": "code",
   "execution_count": 33,
   "metadata": {},
   "outputs": [],
   "source": [
    "train.drop(train[train['SMK_STAT']==2].index,inplace=True)\n",
    "\n",
    "X = train.drop(['SMK_STAT'],axis=1)\n",
    "y = train['SMK_STAT']\n",
    "\n",
    "scaler = MinMaxScaler()\n",
    "scaler.fit(X)\n",
    "X = scaler.transform(X)\n",
    "\n",
    "X_train, X_test, y_train, y_test = train_test_split(X, y, test_size = 0.3,random_state=42)"
   ]
  },
  {
   "cell_type": "code",
   "execution_count": 34,
   "metadata": {},
   "outputs": [
    {
     "name": "stdout",
     "output_type": "stream",
     "text": [
      "train score 0.8539564240630461\n",
      "test score 0.8227389965887345\n",
      "f1 0.6688427760938835\n"
     ]
    },
    {
     "name": "stderr",
     "output_type": "stream",
     "text": [
      "/opt/anaconda3/envs/field/lib/python3.8/site-packages/sklearn/utils/deprecation.py:87: FutureWarning: Function plot_confusion_matrix is deprecated; Function `plot_confusion_matrix` is deprecated in 1.0 and will be removed in 1.2. Use one of the class methods: ConfusionMatrixDisplay.from_predictions or ConfusionMatrixDisplay.from_estimator.\n",
      "  warnings.warn(msg, category=FutureWarning)\n"
     ]
    },
    {
     "data": {
      "text/plain": [
       "<sklearn.metrics._plot.confusion_matrix.ConfusionMatrixDisplay at 0x7ff60101cfa0>"
      ]
     },
     "execution_count": 34,
     "metadata": {},
     "output_type": "execute_result"
    },
    {
     "data": {
      "image/png": "[encoded data removed]",
      "text/plain": [
       "<Figure size 432x288 with 2 Axes>"
      ]
     },
     "metadata": {
      "needs_background": "light"
     },
     "output_type": "display_data"
    }
   ],
   "source": [
    "#initial model\n",
    "clf_model = RandomForestClassifier(max_depth=10,random_state=42)   \n",
    "clf_model.fit(X_train,y_train.values.ravel())\n",
    "y_predict = clf_model.predict(X_test)\n",
    "\n",
    "print('train score', clf_model.score(X_train,y_train))\n",
    "print('test score', clf_model.score(X_test,y_test))\n",
    "print('f1',f1_score(y_test,y_predict))\n",
    "\n",
    "plot_confusion_matrix(clf_model,X_test,y_test,display_labels=['non-smoke','smoke'])"
   ]
  },
  {
   "cell_type": "code",
   "execution_count": 39,
   "metadata": {},
   "outputs": [
    {
     "name": "stdout",
     "output_type": "stream",
     "text": [
      "train score 0.9639066506540297\n",
      "test score 0.9610753502461189\n",
      "f1 0.015325670498084292\n"
     ]
    },
    {
     "name": "stderr",
     "output_type": "stream",
     "text": [
      "/opt/anaconda3/envs/field/lib/python3.8/site-packages/sklearn/utils/deprecation.py:87: FutureWarning: Function plot_confusion_matrix is deprecated; Function `plot_confusion_matrix` is deprecated in 1.0 and will be removed in 1.2. Use one of the class methods: ConfusionMatrixDisplay.from_predictions or ConfusionMatrixDisplay.from_estimator.\n",
      "  warnings.warn(msg, category=FutureWarning)\n"
     ]
    },
    {
     "data": {
      "text/plain": [
       "<sklearn.metrics._plot.confusion_matrix.ConfusionMatrixDisplay at 0x7ff6e94cc100>"
      ]
     },
     "execution_count": 39,
     "metadata": {},
     "output_type": "execute_result"
    },
    {
     "data": {
      "image/png": "[encoded data removed]",
      "text/plain": [
       "<Figure size 432x288 with 2 Axes>"
      ]
     },
     "metadata": {
      "needs_background": "light"
     },
     "output_type": "display_data"
    }
   ],
   "source": [
    "#여성 데이터 트레이닝\n",
    "X = train[train['SEX']==2].drop(['SMK_STAT'],axis=1)\n",
    "y = train[train['SEX']==2]['SMK_STAT']\n",
    "\n",
    "scaler = MinMaxScaler()\n",
    "scaler.fit(X)\n",
    "X = scaler.transform(X)\n",
    "\n",
    "X_train, X_test, y_train, y_test = train_test_split(X, y, test_size = 0.3,random_state=42)\n",
    "\n",
    "\n",
    "over = SMOTE(sampling_strategy=0.2)\n",
    "under = RandomUnderSampler(sampling_strategy=0.6)\n",
    "\n",
    "steps = [('over', over), ('under', under)]\n",
    "pipeline = Pipeline(steps=steps)\n",
    "\n",
    "X_smote,y_smote=over.fit_resample(X_train,y_train)\n",
    "y_smote.value_counts()\n",
    "clf_model = RandomForestClassifier(max_depth=10,random_state=42)   \n",
    "clf_model.fit(X_smote,y_smote.values.ravel())\n",
    "y_predict = clf_model.predict(X_test)\n",
    "\n",
    "print('train score', clf_model.score(X_train,y_train))\n",
    "print('test score', clf_model.score(X_test,y_test))\n",
    "print('f1',f1_score(y_test,y_predict))\n",
    "\n",
    "plot_confusion_matrix(clf_model,X_test,y_test,display_labels=['non-smoke','smoke'])"
   ]
  },
  {
   "cell_type": "code",
   "execution_count": 40,
   "metadata": {},
   "outputs": [
    {
     "name": "stdout",
     "output_type": "stream",
     "text": [
      "train score 0.7330775012857539\n",
      "test score 0.6633434874919228\n",
      "f1 0.7057684550221863\n"
     ]
    },
    {
     "name": "stderr",
     "output_type": "stream",
     "text": [
      "[Parallel(n_jobs=1)]: Using backend SequentialBackend with 1 concurrent workers.\n"
     ]
    },
    {
     "name": "stdout",
     "output_type": "stream",
     "text": [
      "cross val [0.69787561 0.70880038]\n"
     ]
    },
    {
     "name": "stderr",
     "output_type": "stream",
     "text": [
      "[Parallel(n_jobs=1)]: Done   2 out of   2 | elapsed:    3.2s finished\n",
      "/opt/anaconda3/envs/field/lib/python3.8/site-packages/sklearn/utils/deprecation.py:87: FutureWarning: Function plot_confusion_matrix is deprecated; Function `plot_confusion_matrix` is deprecated in 1.0 and will be removed in 1.2. Use one of the class methods: ConfusionMatrixDisplay.from_predictions or ConfusionMatrixDisplay.from_estimator.\n",
      "  warnings.warn(msg, category=FutureWarning)\n"
     ]
    },
    {
     "data": {
      "text/plain": [
       "<sklearn.metrics._plot.confusion_matrix.ConfusionMatrixDisplay at 0x7ff5fe4a7760>"
      ]
     },
     "execution_count": 40,
     "metadata": {},
     "output_type": "execute_result"
    },
    {
     "data": {
      "image/png": "[encoded data removed]",
      "text/plain": [
       "<Figure size 432x288 with 2 Axes>"
      ]
     },
     "metadata": {
      "needs_background": "light"
     },
     "output_type": "display_data"
    }
   ],
   "source": [
    "#남성 데이터 트레이닝\n",
    "X = train[train['SEX']==1].drop(['SMK_STAT'],axis=1)\n",
    "y = train[train['SEX']==1]['SMK_STAT']\n",
    "\n",
    "scaler = MinMaxScaler()\n",
    "scaler.fit(X)\n",
    "X = scaler.transform(X)\n",
    "\n",
    "X_train, X_test, y_train, y_test = train_test_split(X, y, test_size = 0.3,random_state=42)\n",
    "\n",
    "clf_model = RandomForestClassifier(max_depth=10,random_state=42)   \n",
    "clf_model.fit(X_train,y_train.values.ravel())\n",
    "y_predict = clf_model.predict(X_test)\n",
    "\n",
    "print('train score', clf_model.score(X_train,y_train))\n",
    "print('test score', clf_model.score(X_test,y_test))\n",
    "print('f1',f1_score(y_test,y_predict))\n",
    "print('cross val', cross_val_score(clf_model,X,y.values.ravel(), cv=2, scoring='f1',verbose=1))\n",
    "\n",
    "plot_confusion_matrix(clf_model,X_test,y_test,display_labels=['non-smoke','smoke'])"
   ]
  },
  {
   "cell_type": "code",
   "execution_count": 41,
   "metadata": {},
   "outputs": [
    {
     "data": {
      "text/plain": [
       "Text(0.5, 0, 'Feature Importance')"
      ]
     },
     "execution_count": 41,
     "metadata": {},
     "output_type": "execute_result"
    },
    {
     "data": {
      "image/png": "[encoded data removed]",
      "text/plain": [
       "<Figure size 432x288 with 1 Axes>"
      ]
     },
     "metadata": {
      "needs_background": "light"
     },
     "output_type": "display_data"
    }
   ],
   "source": [
    "sort = clf_model.feature_importances_.argsort()\n",
    "plt.barh(train.columns[sort], clf_model.feature_importances_[sort])\n",
    "plt.xlabel(\"Feature Importance\")"
   ]
  },
  {
   "cell_type": "markdown",
   "metadata": {},
   "source": [
    "# 최종 답안 도출"
   ]
  },
  {
   "cell_type": "code",
   "execution_count": 141,
   "metadata": {},
   "outputs": [],
   "source": [
    "test = pd.read_csv(\"test.csv\")\n",
    "m_ID = test[test['SEX']==1]['ID']\n",
    "f_ID = test[test['SEX']==2]['ID']"
   ]
  },
  {
   "cell_type": "code",
   "execution_count": 142,
   "metadata": {},
   "outputs": [],
   "source": [
    "test = test.replace({'Y':1,'N':0})\n",
    "test = test.drop(['ID','SIDO','HCHK_OE_INSPEC_YN','WAIST'],axis=1)\n",
    "test = test.drop(['TOT_CHOLE', 'TRIGLYCERIDE',\n",
    "              'HDL_CHOLE','HDL_CHOLE','LDL_CHOLE',\n",
    "              'CRS_YN','TTR_YN'],axis=1)\n",
    "test = test.drop(['HEAR_LEFT','HEAR_RIGHT'],axis=1)\n",
    "\n",
    "test['SIGHT_LEFT_CATE'] =test['SIGHT_LEFT'] \n",
    "test['SIGHT_RIGHT_CATE']= test['SIGHT_RIGHT'] \n",
    "\n",
    "test.loc[test['SIGHT_LEFT'] <= 3,'SIGHT_LEFT_CATE']='0' \n",
    "test.loc[test['SIGHT_LEFT'] >3, 'SIGHT_LEFT_CATE']='1'\n",
    "test.loc[test['SIGHT_RIGHT'] <= 3,'SIGHT_RIGHT_CATE']='0'\n",
    "test.loc[test['SIGHT_RIGHT'] >3, 'SIGHT_RIGHT_CATE']='1'\n",
    "\n",
    "test= test.astype({'SIGHT_LEFT_CATE':'category','SIGHT_RIGHT_CATE':'category'})\n",
    "\n",
    "test= test.astype({'SEX':'category',\n",
    "                    'SIGHT_LEFT_CATE':'category','SIGHT_RIGHT_CATE':'category',\n",
    "                    'AGE':'category','HEIGHT':'category', 'WEIGHT': 'category',\n",
    "                    'OLIG_PROTE':'category', 'DRK_YN':'category'})\n",
    "\n",
    "test.loc[test['HMG'] < 5, 'HMG']=np.NaN\n",
    "test.loc[test['HMG'] >=20,'HMG']= np.NaN\n",
    "test.loc[test['BLDS'] >= 250, 'BLDS']=np.NaN\n",
    "test.loc[test['BP_HIGH'] <= 40,'BP_HIGH']=np.nan\n",
    "test.loc[test['BP_HIGH'] >= 180,'BP_HIGH']=np.nan\n",
    "test.loc[test['BP_LWST'] <= 40,'BP_LWST']=np.nan\n",
    "test.loc[test['BP_LWST'] >= 180,'BP_LWST']=np.nan\n",
    "test.loc[test['CREATININE'] >= 70, 'CREATININE']=np.nan\n",
    "test.loc[test['SGOT_AST'] >= 10000, 'SGOT_AST']=np.nan\n",
    "test.loc[test['SGOT_ALT'] >= 10000, 'SGOT_ALT']=np.nan\n",
    "test.loc[(test['SEX']==1) & (test['GAMMA_GTP'] >= 550), 'GAMMA_GTP']=np.nan\n",
    "test.loc[(test['SEX']==2) & (test['GAMMA_GTP'] >= 380), 'GAMMA_GTP']=np.nan\n",
    "\n",
    "scaler=MinMaxScaler()\n",
    "test= pd.DataFrame(scaler.fit_transform(test), columns= test.columns)\n",
    "imputer =KNNImputer(n_neighbors=3)\n",
    "test=pd.DataFrame(imputer.fit_transform(test), columns=test.columns)\n",
    "test= pd.DataFrame(scaler.inverse_transform(test), columns=test.columns)\n",
    "\n",
    "test['OLIG_PROTE_CATE'] = 0\n",
    "\n",
    "test.loc[(test['OLIG_PROTE'] >0) & (test['OLIG_PROTE'] <=1.5),'OLIG_PROTE_CATE']='1'\n",
    "test.loc[(test['OLIG_PROTE'] >1.5) & (test['OLIG_PROTE'] <=2), 'OLIG_PROTE_CATE']='2'\n",
    "test.loc[(test['OLIG_PROTE'] >2) & (test['OLIG_PROTE'] <=2.5),'OLIG_PROTE_CATE']='2'\n",
    "test.loc[(test['OLIG_PROTE'] >2.5) & (test['OLIG_PROTE'] <=3), 'OLIG_PROTE_CATE']='3'\n",
    "test.loc[(test['OLIG_PROTE']>3) & (test['OLIG_PROTE'] <=3.5),'OLIG_PROTE_CATE']='3'\n",
    "test.loc[(test['OLIG_PROTE'] >3.5) & (test['OLIG_PROTE'] <=4), 'OLIG_PROTE_CATE']='4'\n",
    "test.loc[(test['OLIG_PROTE'] >4) & (test['OLIG_PROTE'] <=4.5),'OLIG_PROTE_CATE']='4'\n",
    "test.loc[(test['OLIG_PROTE'] >4.5) & (test['OLIG_PROTE'] <=5), 'OLIG_PROTE_CATE']='5'\n",
    "test.loc[(test['OLIG_PROTE'] >5) & (test['OLIG_PROTE'] <=5.5),'OLIG_PROTE_CATE']='5'\n",
    "test.loc[(test['OLIG_PROTE'] >5.5) & (test['OLIG_PROTE'] <=6.5), 'OLIG_PROTE_CATE']='6'\n",
    "\n",
    "test = test.drop('OLIG_PROTE',axis=1)\n",
    "test.rename(columns = {'SIGHT_LEFT_CATE':'SIGHT_LEFT','SIGHT_RIGHT_CATE':'SIGHT_RIGHT','OLIG_PROTE_CATE':'OLIG_PROTE'},inplace=True)\n",
    "test= test.astype({'SEX':'int', 'HEIGHT': 'int', 'WEIGHT':'int'})\n",
    "test= test.astype({'AGE':'int', 'DRK_YN' : 'int','SIGHT_LEFT': 'int', 'SIGHT_RIGHT': 'int'})\n",
    "test= test.astype({'SEX':'category', 'HEIGHT': 'category', 'WEIGHT':'category'})\n",
    "test= test.astype({'AGE':'category', 'DRK_YN': 'category', 'OLIG_PROTE' : 'category'})\n",
    "test = test.astype({'SIGHT_LEFT': 'category', 'SIGHT_RIGHT': 'category'})\n"
   ]
  },
  {
   "cell_type": "code",
   "execution_count": 143,
   "metadata": {},
   "outputs": [],
   "source": [
    "#남성 데이터 트레이닝\n",
    "\n",
    "Xm = train[train['SEX']==1].drop(['SMK_STAT'],axis=1)\n",
    "ym = train[train['SEX']==1]['SMK_STAT']\n",
    "\n",
    "clf_model = RandomForestClassifier(max_depth=10,random_state=42)   \n",
    "clf_model.fit(Xm,ym.values.ravel())\n",
    "\n",
    "ym_predict = clf_model.predict(test[test['SEX']==1])\n",
    "id_df = pd.DataFrame({'ID': m_ID, 'Prediction': list(ym_predict)}).explode('ID')"
   ]
  },
  {
   "cell_type": "code",
   "execution_count": 172,
   "metadata": {},
   "outputs": [],
   "source": [
    "#여성 데이터 트레이닝\n",
    "Xf = train[train['SEX']==2].drop(['SMK_STAT'],axis=1)\n",
    "yf = train[train['SEX']==2]['SMK_STAT']\n",
    "\n",
    "over = RandomOverSampler(sampling_strategy=0.1)\n",
    "X_smote,y_smote=over.fit_resample(Xf,yf)\n",
    "clf_model = RandomForestClassifier(max_depth=10,random_state=42)   \n",
    "clf_model.fit(X_smote,y_smote)\n",
    "\n",
    "yf_predict = clf_model.predict(test[test['SEX']==2])"
   ]
  },
  {
   "cell_type": "code",
   "execution_count": 173,
   "metadata": {},
   "outputs": [],
   "source": [
    "id_df2 = pd.DataFrame({'ID': f_ID, 'Prediction': list(yf_predict)}).explode('ID')\n",
    "final = pd.concat([id_df, id_df2]).sort_values('ID')\n",
    "final.to_csv(\"submission.csv\",index=False)"
   ]
  },
  {
   "cell_type": "code",
   "execution_count": null,
   "metadata": {},
   "outputs": [],
   "source": []
  }
 ],
 "metadata": {
  "kernelspec": {
   "display_name": "Python 3",
   "language": "python",
   "name": "python3"
  },
  "language_info": {
   "codemirror_mode": {
    "name": "ipython",
    "version": 3
   },
   "file_extension": ".py",
   "mimetype": "text/x-python",
   "name": "python",
   "nbconvert_exporter": "python",
   "pygments_lexer": "ipython3",
   "version": "3.8.3"
  }
 },
 "nbformat": 4,
 "nbformat_minor": 5
}
